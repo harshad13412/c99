{
  "nbformat": 4,
  "nbformat_minor": 0,
  "metadata": {
    "colab": {
      "provenance": [],
      "authorship_tag": "ABX9TyOOKZojOgaYXuXzexgB8ZMa",
      "include_colab_link": true
    },
    "kernelspec": {
      "name": "python3",
      "display_name": "Python 3"
    },
    "language_info": {
      "name": "python"
    }
  },
  "cells": [
    {
      "cell_type": "markdown",
      "metadata": {
        "id": "view-in-github",
        "colab_type": "text"
      },
      "source": [
        "<a href=\"https://colab.research.google.com/github/harshad13412/c99/blob/main/Untitled3.ipynb\" target=\"_parent\"><img src=\"https://colab.research.google.com/assets/colab-badge.svg\" alt=\"Open In Colab\"/></a>"
      ]
    },
    {
      "cell_type": "code",
      "execution_count": null,
      "metadata": {
        "id": "TbxSLlf9_OIy",
        "outputId": "9b1f3eb1-ae38-4562-b855-84d2e91aa9da",
        "colab": {
          "base_uri": "https://localhost:8080/"
        }
      },
      "outputs": [
        {
          "output_type": "stream",
          "name": "stdout",
          "text": [
            "Enter your name: harsh\n",
            "h * * * * \n",
            "* a * * * \n",
            "* * r * * \n",
            "* * * s * \n",
            "* * * * h \n"
          ]
        }
      ],
      "source": [
        "# Get user's name\n",
        "user_name = input(\"Enter your name: \")\n",
        "\n",
        "# Get the number of characters in the name\n",
        "iteration = len(user_name)\n",
        "\n",
        "# Nested for-in loop to display each letter of the name\n",
        "for i in range(iteration):\n",
        "    for j in range(iteration):\n",
        "        if i == j:\n",
        "            print(user_name[j], end=' ')\n",
        "        else:\n",
        "            print('*', end=' ')\n",
        "    print()  # Move to the next row\n",
        "\n"
      ]
    }
  ]
}